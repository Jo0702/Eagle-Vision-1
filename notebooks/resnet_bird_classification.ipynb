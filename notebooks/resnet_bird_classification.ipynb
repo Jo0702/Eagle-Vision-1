{
 "cells": [
  {
   "cell_type": "code",
   "execution_count": 1,
   "metadata": {
    "collapsed": true,
    "jupyter": {
     "outputs_hidden": true
    }
   },
   "outputs": [
    {
     "name": "stdout",
     "output_type": "stream",
     "text": [
      "Collecting seaborn\n",
      "  Using cached seaborn-0.11.1-py3-none-any.whl (285 kB)\n",
      "Requirement already satisfied: scipy>=1.0 in /opt/conda/lib/python3.6/site-packages (from seaborn) (1.5.4)\n",
      "Requirement already satisfied: pandas>=0.23 in /opt/conda/lib/python3.6/site-packages (from seaborn) (1.1.5)\n",
      "Requirement already satisfied: matplotlib>=2.2 in /opt/conda/lib/python3.6/site-packages (from seaborn) (3.3.4)\n",
      "Requirement already satisfied: numpy>=1.15 in /opt/conda/lib/python3.6/site-packages (from seaborn) (1.19.1)\n",
      "Requirement already satisfied: kiwisolver>=1.0.1 in /opt/conda/lib/python3.6/site-packages (from matplotlib>=2.2->seaborn) (1.3.1)\n",
      "Requirement already satisfied: pillow>=6.2.0 in /opt/conda/lib/python3.6/site-packages (from matplotlib>=2.2->seaborn) (8.1.0)\n",
      "Requirement already satisfied: pyparsing!=2.0.4,!=2.1.2,!=2.1.6,>=2.0.3 in /opt/conda/lib/python3.6/site-packages (from matplotlib>=2.2->seaborn) (2.4.7)\n",
      "Requirement already satisfied: cycler>=0.10 in /opt/conda/lib/python3.6/site-packages (from matplotlib>=2.2->seaborn) (0.10.0)\n",
      "Requirement already satisfied: python-dateutil>=2.1 in /opt/conda/lib/python3.6/site-packages (from matplotlib>=2.2->seaborn) (2.8.1)\n",
      "Requirement already satisfied: six in /opt/conda/lib/python3.6/site-packages (from cycler>=0.10->matplotlib>=2.2->seaborn) (1.15.0)\n",
      "Requirement already satisfied: pytz>=2017.2 in /opt/conda/lib/python3.6/site-packages (from pandas>=0.23->seaborn) (2021.1)\n",
      "Installing collected packages: seaborn\n",
      "Successfully installed seaborn-0.11.1\n",
      "Collecting ipywidgets\n",
      "  Using cached ipywidgets-7.6.3-py2.py3-none-any.whl (121 kB)\n",
      "Requirement already satisfied: ipykernel>=4.5.1 in /opt/conda/lib/python3.6/site-packages (from ipywidgets) (5.5.0)\n",
      "Collecting jupyterlab-widgets>=1.0.0\n",
      "  Using cached jupyterlab_widgets-1.0.0-py3-none-any.whl (243 kB)\n",
      "Requirement already satisfied: traitlets>=4.3.1 in /opt/conda/lib/python3.6/site-packages (from ipywidgets) (4.3.3)\n",
      "Requirement already satisfied: ipython>=4.0.0 in /opt/conda/lib/python3.6/site-packages (from ipywidgets) (7.16.1)\n",
      "Collecting nbformat>=4.2.0\n",
      "  Using cached nbformat-5.1.2-py3-none-any.whl (113 kB)\n",
      "Collecting widgetsnbextension~=3.5.0\n",
      "  Using cached widgetsnbextension-3.5.1-py2.py3-none-any.whl (2.2 MB)\n",
      "Requirement already satisfied: tornado>=4.2 in /opt/conda/lib/python3.6/site-packages (from ipykernel>=4.5.1->ipywidgets) (6.1)\n",
      "Requirement already satisfied: jupyter-client in /opt/conda/lib/python3.6/site-packages (from ipykernel>=4.5.1->ipywidgets) (6.1.11)\n",
      "Requirement already satisfied: backcall in /opt/conda/lib/python3.6/site-packages (from ipython>=4.0.0->ipywidgets) (0.2.0)\n",
      "Requirement already satisfied: decorator in /opt/conda/lib/python3.6/site-packages (from ipython>=4.0.0->ipywidgets) (4.4.2)\n",
      "Requirement already satisfied: setuptools>=18.5 in /opt/conda/lib/python3.6/site-packages (from ipython>=4.0.0->ipywidgets) (49.6.0.post20210108)\n",
      "Requirement already satisfied: pexpect in /opt/conda/lib/python3.6/site-packages (from ipython>=4.0.0->ipywidgets) (4.8.0)\n",
      "Requirement already satisfied: pygments in /opt/conda/lib/python3.6/site-packages (from ipython>=4.0.0->ipywidgets) (2.7.1)\n",
      "Requirement already satisfied: prompt-toolkit!=3.0.0,!=3.0.1,<3.1.0,>=2.0.0 in /opt/conda/lib/python3.6/site-packages (from ipython>=4.0.0->ipywidgets) (3.0.8)\n",
      "Requirement already satisfied: jedi>=0.10 in /opt/conda/lib/python3.6/site-packages (from ipython>=4.0.0->ipywidgets) (0.18.0)\n",
      "Requirement already satisfied: pickleshare in /opt/conda/lib/python3.6/site-packages (from ipython>=4.0.0->ipywidgets) (0.7.5)\n",
      "Requirement already satisfied: parso<0.9.0,>=0.8.0 in /opt/conda/lib/python3.6/site-packages (from jedi>=0.10->ipython>=4.0.0->ipywidgets) (0.8.0)\n",
      "Requirement already satisfied: jupyter-core in /opt/conda/lib/python3.6/site-packages (from nbformat>=4.2.0->ipywidgets) (4.7.1)\n",
      "Requirement already satisfied: ipython-genutils in /opt/conda/lib/python3.6/site-packages (from nbformat>=4.2.0->ipywidgets) (0.2.0)\n",
      "Collecting jsonschema!=2.5.0,>=2.4\n",
      "  Using cached jsonschema-3.2.0-py2.py3-none-any.whl (56 kB)\n",
      "Requirement already satisfied: six>=1.11.0 in /opt/conda/lib/python3.6/site-packages (from jsonschema!=2.5.0,>=2.4->nbformat>=4.2.0->ipywidgets) (1.15.0)\n",
      "Requirement already satisfied: attrs>=17.4.0 in /opt/conda/lib/python3.6/site-packages (from jsonschema!=2.5.0,>=2.4->nbformat>=4.2.0->ipywidgets) (20.3.0)\n",
      "Requirement already satisfied: importlib-metadata in /opt/conda/lib/python3.6/site-packages (from jsonschema!=2.5.0,>=2.4->nbformat>=4.2.0->ipywidgets) (3.5.0)\n",
      "Collecting pyrsistent>=0.14.0\n",
      "  Using cached pyrsistent-0.17.3-cp36-cp36m-linux_x86_64.whl\n",
      "Requirement already satisfied: wcwidth in /opt/conda/lib/python3.6/site-packages (from prompt-toolkit!=3.0.0,!=3.0.1,<3.1.0,>=2.0.0->ipython>=4.0.0->ipywidgets) (0.2.5)\n",
      "Collecting notebook>=4.4.1\n",
      "  Using cached notebook-6.2.0-py3-none-any.whl (9.5 MB)\n",
      "Collecting argon2-cffi\n",
      "  Using cached argon2_cffi-20.1.0-cp35-abi3-manylinux1_x86_64.whl (97 kB)\n",
      "Collecting nbconvert\n",
      "  Using cached nbconvert-6.0.7-py3-none-any.whl (552 kB)\n",
      "Requirement already satisfied: jinja2 in /opt/conda/lib/python3.6/site-packages (from notebook>=4.4.1->widgetsnbextension~=3.5.0->ipywidgets) (2.11.3)\n",
      "Collecting Send2Trash>=1.5.0\n",
      "  Using cached Send2Trash-1.5.0-py3-none-any.whl (12 kB)\n",
      "Collecting terminado>=0.8.3\n",
      "  Using cached terminado-0.9.2-py3-none-any.whl (14 kB)\n",
      "Collecting prometheus-client\n",
      "  Using cached prometheus_client-0.9.0-py2.py3-none-any.whl (53 kB)\n",
      "Requirement already satisfied: pyzmq>=17 in /opt/conda/lib/python3.6/site-packages (from notebook>=4.4.1->widgetsnbextension~=3.5.0->ipywidgets) (22.0.3)\n",
      "Requirement already satisfied: python-dateutil>=2.1 in /opt/conda/lib/python3.6/site-packages (from jupyter-client->ipykernel>=4.5.1->ipywidgets) (2.8.1)\n",
      "Requirement already satisfied: ptyprocess in /opt/conda/lib/python3.6/site-packages (from terminado>=0.8.3->notebook>=4.4.1->widgetsnbextension~=3.5.0->ipywidgets) (0.6.0)\n",
      "Requirement already satisfied: cffi>=1.0.0 in /opt/conda/lib/python3.6/site-packages (from argon2-cffi->notebook>=4.4.1->widgetsnbextension~=3.5.0->ipywidgets) (1.14.5)\n",
      "Requirement already satisfied: pycparser in /opt/conda/lib/python3.6/site-packages (from cffi>=1.0.0->argon2-cffi->notebook>=4.4.1->widgetsnbextension~=3.5.0->ipywidgets) (2.20)\n",
      "Requirement already satisfied: zipp>=0.5 in /opt/conda/lib/python3.6/site-packages (from importlib-metadata->jsonschema!=2.5.0,>=2.4->nbformat>=4.2.0->ipywidgets) (3.4.0)\n",
      "Requirement already satisfied: typing-extensions>=3.6.4 in /opt/conda/lib/python3.6/site-packages (from importlib-metadata->jsonschema!=2.5.0,>=2.4->nbformat>=4.2.0->ipywidgets) (3.7.4.3)\n",
      "Requirement already satisfied: MarkupSafe>=0.23 in /opt/conda/lib/python3.6/site-packages (from jinja2->notebook>=4.4.1->widgetsnbextension~=3.5.0->ipywidgets) (1.1.1)\n",
      "Collecting jupyterlab-pygments\n",
      "  Using cached jupyterlab_pygments-0.1.2-py2.py3-none-any.whl (4.6 kB)\n",
      "Collecting nbclient<0.6.0,>=0.5.0\n",
      "  Using cached nbclient-0.5.2-py3-none-any.whl (65 kB)\n",
      "Collecting defusedxml\n",
      "  Using cached defusedxml-0.6.0-py2.py3-none-any.whl (23 kB)\n",
      "Collecting pandocfilters>=1.4.1\n",
      "  Using cached pandocfilters-1.4.3-py3-none-any.whl\n",
      "Collecting entrypoints>=0.2.2\n",
      "  Using cached entrypoints-0.3-py2.py3-none-any.whl (11 kB)\n",
      "Collecting mistune<2,>=0.8.1\n",
      "  Using cached mistune-0.8.4-py2.py3-none-any.whl (16 kB)\n",
      "Collecting testpath\n",
      "  Using cached testpath-0.4.4-py2.py3-none-any.whl (163 kB)\n",
      "Collecting bleach\n",
      "  Using cached bleach-3.3.0-py2.py3-none-any.whl (283 kB)\n",
      "Collecting async-generator\n",
      "  Using cached async_generator-1.10-py3-none-any.whl (18 kB)\n",
      "Collecting nest-asyncio\n",
      "  Using cached nest_asyncio-1.5.1-py3-none-any.whl (5.0 kB)\n",
      "Collecting webencodings\n",
      "  Using cached webencodings-0.5.1-py2.py3-none-any.whl (11 kB)\n",
      "Requirement already satisfied: packaging in /opt/conda/lib/python3.6/site-packages (from bleach->nbconvert->notebook>=4.4.1->widgetsnbextension~=3.5.0->ipywidgets) (20.9)\n",
      "Requirement already satisfied: pyparsing>=2.0.2 in /opt/conda/lib/python3.6/site-packages (from packaging->bleach->nbconvert->notebook>=4.4.1->widgetsnbextension~=3.5.0->ipywidgets) (2.4.7)\n",
      "Installing collected packages: pyrsistent, jsonschema, webencodings, nest-asyncio, nbformat, async-generator, testpath, pandocfilters, nbclient, mistune, jupyterlab-pygments, entrypoints, defusedxml, bleach, terminado, Send2Trash, prometheus-client, nbconvert, argon2-cffi, notebook, widgetsnbextension, jupyterlab-widgets, ipywidgets\n",
      "Successfully installed Send2Trash-1.5.0 argon2-cffi-20.1.0 async-generator-1.10 bleach-3.3.0 defusedxml-0.6.0 entrypoints-0.3 ipywidgets-7.6.3 jsonschema-3.2.0 jupyterlab-pygments-0.1.2 jupyterlab-widgets-1.0.0 mistune-0.8.4 nbclient-0.5.2 nbconvert-6.0.7 nbformat-5.1.2 nest-asyncio-1.5.1 notebook-6.2.0 pandocfilters-1.4.3 prometheus-client-0.9.0 pyrsistent-0.17.3 terminado-0.9.2 testpath-0.4.4 webencodings-0.5.1 widgetsnbextension-3.5.1\n"
     ]
    }
   ],
   "source": [
    "!pip install seaborn\n",
    "!pip install ipywidgets"
   ]
  },
  {
   "cell_type": "code",
   "execution_count": null,
   "metadata": {},
   "outputs": [],
   "source": [
    "import os #working with local files\n",
    "import time\n",
    "import json\n",
    "\n",
    "import numpy as np\n",
    "import pandas as pd\n",
    "import matplotlib.pyplot as plt\n",
    "from sklearn import metrics\n",
    "\n",
    "import torch\n",
    "from torch import nn, cuda, optim, device\n",
    "from torchvision import (models, #getting the pretrained resnet\n",
    "                         transforms, \n",
    "                         datasets) \n",
    "from torch.utils.data import DataLoader\n",
    "from PIL import Image\n",
    "\n",
    "import boto3\n"
   ]
  },
  {
   "cell_type": "code",
   "execution_count": null,
   "metadata": {},
   "outputs": [],
   "source": [
    "sorted_list_of_dirs = [i.title() for i in os.listdir('train')]\n",
    "sorted_list_of_dirs.sort()\n",
    "\n",
    "idx_to_class_label = {\n",
    "    idx: class_label for idx, class_label in zip(range(len(sorted_list_of_dirs)), sorted_list_of_dirs)\n",
    "}\n",
    "\n",
    "with open('idx_to_class_label.json', 'w') as f:\n",
    "    json.dump(idx_to_class_label, f)\n",
    "    \n",
    "with open('idx_to_class_label.json', 'rb') as f:\n",
    "    j = json.load(f)\n"
   ]
  },
  {
   "cell_type": "code",
   "execution_count": 3,
   "metadata": {},
   "outputs": [],
   "source": [
    "model = models.resnet50(pretrained=True)\n",
    "for param in model.parameters():\n",
    "    param.require_grad = False\n",
    "    \n",
    "model.fc = nn.Sequential(nn.Linear(model.fc.in_features, 1024),\n",
    "                        nn.ReLU(),\n",
    "                        nn.Dropout(0.30),\n",
    "                        nn.Linear(1024, 250))\n"
   ]
  },
  {
   "cell_type": "code",
   "execution_count": 4,
   "metadata": {},
   "outputs": [
    {
     "name": "stdout",
     "output_type": "stream",
     "text": [
      "cuda:0\n"
     ]
    }
   ],
   "source": [
    "device = torch.device('cuda:0' if cuda.is_available() else 'cpu')\n",
    "\n",
    "model.to(device)\n",
    "print(device)\n"
   ]
  },
  {
   "cell_type": "code",
   "execution_count": 5,
   "metadata": {},
   "outputs": [],
   "source": [
    "train_transform = transforms.Compose([\n",
    "    transforms.Resize((224, 224)),\n",
    "    transforms.RandomRotation(45),\n",
    "    transforms.RandomHorizontalFlip(),\n",
    "    transforms.RandomVerticalFlip(),\n",
    "    transforms.ToTensor(),\n",
    "    transforms.Normalize(mean=[0.485, 0.456, 0.406],\n",
    "                        std=[0.229, 0.224, 0.225])\n",
    "])\n",
    "\n",
    "val_transform = transforms.Compose([\n",
    "    transforms.Resize((224,224)),\n",
    "    transforms.ToTensor(),\n",
    "    transforms.Normalize(mean=[0.485, 0.456, 0.406],\n",
    "                        std=[0.229, 0.224, 0.225])\n",
    "])\n",
    "\n",
    "test_transform = transforms.Compose([\n",
    "    transforms.Resize((224,224)),\n",
    "    transforms.ToTensor(),\n",
    "    transforms.Normalize(mean=[0.485, 0.456, 0.406],\n",
    "                        std=[0.229, 0.224, 0.225])\n",
    "])"
   ]
  },
  {
   "cell_type": "code",
   "execution_count": 6,
   "metadata": {},
   "outputs": [],
   "source": [
    "train_data = datasets.ImageFolder('train')\n",
    "val_data = datasets.ImageFolder('valid')\n",
    "test_data = datasets.ImageFolder('test')\n",
    "\n",
    "train_data.transform = train_transform\n",
    "val_data.transform = val_transform\n",
    "test_data.transform = test_transform\n",
    "\n",
    "batch_size=16\n",
    "\n",
    "train_loader = DataLoader(train_data,\n",
    "                         batch_size=batch_size,\n",
    "                         shuffle=True)\n",
    "val_loader = DataLoader(val_data,\n",
    "                        batch_size=batch_size,\n",
    "                        shuffle=True)\n",
    "test_loader = DataLoader(test_data,\n",
    "                        batch_size=batch_size,\n",
    "                        shuffle=True)\n"
   ]
  },
  {
   "cell_type": "code",
   "execution_count": 7,
   "metadata": {},
   "outputs": [],
   "source": [
    "criterion = nn.CrossEntropyLoss()\n",
    "optimizer = optim.Adam(model.parameters(),\n",
    "                      lr=0.0001)"
   ]
  },
  {
   "cell_type": "code",
   "execution_count": 12,
   "metadata": {},
   "outputs": [],
   "source": [
    "def fit(train_loader, val_loader, model, criterion, optimizer, num_epochs=10, batch_size=16):\n",
    "    start = time.time()\n",
    "    best_model = model.state_dict()\n",
    "    best_acc = 0\n",
    "    train_loss_over_time = []\n",
    "    val_loss_over_time = []\n",
    "    train_acc_over_time = []\n",
    "    val_acc_over_time = []\n",
    "    early_stop_min_increase = 0.0001\n",
    "    early_stop_patience = 10\n",
    "    epochs_no_improve = 0\n",
    "    early_stop = False\n",
    "    \n",
    "    for epoch in range(num_epochs):\n",
    "        print(f\"Epoch number: {epoch+1}/{num_epochs}\")\n",
    "        \n",
    "        for phase in ['train', 'val']:\n",
    "            if phase=='train':\n",
    "                data_loader = train_loader\n",
    "                model.train()\n",
    "            else:\n",
    "                data_loader = val_loader\n",
    "                model.eval()\n",
    "                \n",
    "            running_loss = 0\n",
    "            running_corrects = 0\n",
    "            \n",
    "            for inputs, labels in data_loader:\n",
    "                inputs = inputs.to(device)\n",
    "                labels = labels.to(device)\n",
    "                \n",
    "                optimizer.zero_grad()\n",
    "                \n",
    "                with torch.set_grad_enabled(phase=='train'):\n",
    "                    outputs = model(inputs)\n",
    "                    _, pred = torch.max(outputs, dim=1)\n",
    "                    loss = criterion(outputs, labels)\n",
    "                    \n",
    "                    if phase=='train':\n",
    "                        loss.backward()\n",
    "                        optimizer.step()\n",
    "                        \n",
    "                running_loss += loss.item() * inputs.size(0)\n",
    "                running_corrects += torch.sum(pred==labels.data)\n",
    "                        \n",
    "            if phase=='train':\n",
    "                epoch_loss = running_loss/len(train_loader.dataset)\n",
    "                train_loss_over_time.append(epoch_loss)\n",
    "                epoch_acc = running_corrects.double()/len(train_loader.dataset)\n",
    "                train_acc_over_time.append(epoch_acc)\n",
    "\n",
    "            else:\n",
    "                epoch_loss = running_loss/len(val_loader.dataset)\n",
    "                val_loss_over_time.append(epoch_loss)\n",
    "                epoch_acc = running_corrects.double()/len(val_loader.dataset)\n",
    "                val_acc_over_time.append(epoch_acc)\n",
    "                \n",
    "                #early stopping\n",
    "                #if the difference between this epoch valid acc and the previous epoch valid acc\n",
    "                #isn't greater than the desired min increase, then the model is not improving\n",
    "                #if the model is not improving for 5 epochs straight, early stop.\n",
    "#                 if len(val_acc_over_time) >= 5:\n",
    "# #                     prev_epoch_acc = val_acc_over_time[-2]\n",
    "#                     recent_epoch_accs = val_acc_over_time[-5:-1]\n",
    "#                     if epoch_acc - np.max(recent_epoch_accs) <= early_stop_min_increase:\n",
    "# #                     if (epoch_acc - prev_epoch_acc) <= early_stop_min_increase:\n",
    "#                         epochs_no_improve += 1\n",
    "#                         print('Model has not improved beyond threshold')\n",
    "#                     else:\n",
    "#                         if epochs_no_improve:\n",
    "#                             epochs_no_improve = 0\n",
    "#                             print('Model has improved, resetting early stop count')\n",
    "                    \n",
    "            print(f\"{phase} loss: {epoch_loss:.3f}, acc: {epoch_acc:.3f}\")\n",
    "                \n",
    "            if phase=='val' and epoch_acc > best_acc:\n",
    "                best_acc = epoch_acc\n",
    "                best_model = model.state_dict()\n",
    "                torch.save(model, 'trained_model_resnet50_checkpoint.pt') #checkpoint\n",
    "                epochs_no_improve = 0\n",
    "            elif phase == 'val' and epoch_acc < best_acc:\n",
    "                epochs_no_improve += 1\n",
    "                print(f\"Number of epochs without improvement has increased to {epochs_no_improve}\")\n",
    "        if epochs_no_improve >= early_stop_patience:\n",
    "            early_stop = True\n",
    "        if early_stop:\n",
    "            print('Early stopping!')\n",
    "            break\n",
    "        print('-'*60)\n",
    "    total_time = (time.time() - start)/60\n",
    "    print(f\"Training completed. Time taken: {total_time:.3f} min\\nBest accuracy: {best_acc:.3f}\")\n",
    "    model.load_state_dict(best_model)\n",
    "    loss = {'train': train_loss_over_time,\n",
    "           'val': val_loss_over_time}\n",
    "    acc = {'train': train_acc_over_time,\n",
    "          'val': val_acc_over_time}\n",
    "    return model, loss, acc\n"
   ]
  },
  {
   "cell_type": "code",
   "execution_count": null,
   "metadata": {},
   "outputs": [
    {
     "name": "stdout",
     "output_type": "stream",
     "text": [
      "Epoch number: 1/100\n",
      "train loss: 0.225, acc: 0.933\n",
      "val loss: 0.125, acc: 0.974\n",
      "------------------------------------------------------------\n",
      "Epoch number: 2/100\n",
      "train loss: 0.205, acc: 0.938\n",
      "val loss: 0.103, acc: 0.972\n",
      "Number of epochs without improvement has increased to 1\n",
      "------------------------------------------------------------\n",
      "Epoch number: 3/100\n",
      "train loss: 0.198, acc: 0.942\n",
      "val loss: 0.111, acc: 0.963\n",
      "Number of epochs without improvement has increased to 2\n",
      "------------------------------------------------------------\n",
      "Epoch number: 4/100\n",
      "train loss: 0.181, acc: 0.945\n",
      "val loss: 0.117, acc: 0.968\n",
      "Number of epochs without improvement has increased to 3\n",
      "------------------------------------------------------------\n",
      "Epoch number: 5/100\n",
      "train loss: 0.178, acc: 0.946\n",
      "val loss: 0.109, acc: 0.974\n",
      "------------------------------------------------------------\n",
      "Epoch number: 6/100\n",
      "train loss: 0.169, acc: 0.948\n",
      "val loss: 0.113, acc: 0.970\n",
      "Number of epochs without improvement has increased to 1\n",
      "------------------------------------------------------------\n",
      "Epoch number: 7/100\n",
      "train loss: 0.160, acc: 0.951\n",
      "val loss: 0.123, acc: 0.972\n",
      "Number of epochs without improvement has increased to 2\n",
      "------------------------------------------------------------\n",
      "Epoch number: 8/100\n",
      "train loss: 0.149, acc: 0.955\n",
      "val loss: 0.122, acc: 0.967\n",
      "Number of epochs without improvement has increased to 3\n",
      "------------------------------------------------------------\n",
      "Epoch number: 9/100\n",
      "train loss: 0.152, acc: 0.953\n",
      "val loss: 0.112, acc: 0.968\n",
      "Number of epochs without improvement has increased to 4\n",
      "------------------------------------------------------------\n",
      "Epoch number: 10/100\n",
      "train loss: 0.140, acc: 0.957\n",
      "val loss: 0.111, acc: 0.969\n",
      "Number of epochs without improvement has increased to 5\n",
      "------------------------------------------------------------\n",
      "Epoch number: 11/100\n",
      "train loss: 0.133, acc: 0.960\n",
      "val loss: 0.127, acc: 0.965\n",
      "Number of epochs without improvement has increased to 6\n",
      "------------------------------------------------------------\n",
      "Epoch number: 12/100\n",
      "train loss: 0.130, acc: 0.960\n",
      "val loss: 0.102, acc: 0.973\n",
      "Number of epochs without improvement has increased to 7\n",
      "------------------------------------------------------------\n",
      "Epoch number: 13/100\n",
      "train loss: 0.130, acc: 0.960\n",
      "val loss: 0.117, acc: 0.968\n",
      "Number of epochs without improvement has increased to 8\n",
      "------------------------------------------------------------\n",
      "Epoch number: 14/100\n",
      "train loss: 0.121, acc: 0.962\n",
      "val loss: 0.111, acc: 0.972\n",
      "Number of epochs without improvement has increased to 9\n",
      "------------------------------------------------------------\n",
      "Epoch number: 15/100\n",
      "train loss: 0.117, acc: 0.964\n",
      "val loss: 0.082, acc: 0.975\n",
      "------------------------------------------------------------\n",
      "Epoch number: 16/100\n"
     ]
    }
   ],
   "source": [
    "history, loss, acc = fit(train_loader, val_loader, model, criterion, optimizer,\n",
    "                        num_epochs=100, batch_size=batch_size)\n"
   ]
  },
  {
   "cell_type": "code",
   "execution_count": null,
   "metadata": {},
   "outputs": [],
   "source": [
    "def evaluate(test_loader, model, criterion):\n",
    "    model.eval()\n",
    "    test_loss = 0\n",
    "    test_acc = 0\n",
    "    preds = list()\n",
    "    labels_list = list()\n",
    "    \n",
    "    for inputs, labels in test_loader:\n",
    "        \n",
    "        inputs = inputs.to(device)\n",
    "        labels = labels.to(device)\n",
    "        \n",
    "        with torch.no_grad():\n",
    "            outputs = model(inputs)\n",
    "            loss = criterion(outputs, labels)\n",
    "            _, pred = torch.max(outputs, dim=1)\n",
    "            preds.append(pred)\n",
    "            labels_list.append(labels)\n",
    "            \n",
    "        test_loss += loss.item()*inputs.size(0)\n",
    "        correct = pred.eq(labels.data.view_as(pred))\n",
    "        accuracy = torch.mean(correct.type(torch.FloatTensor))\n",
    "        test_acc += accuracy.item() * inputs.size(0)\n",
    "        \n",
    "    test_loss = test_loss/len(test_loader.dataset)\n",
    "    test_acc = test_acc / len(test_loader.dataset)\n",
    "        \n",
    "    print(f\"Test loss: {test_loss:.4f}\\nTest acc: {test_acc:.4f}\")\n",
    "    \n",
    "    return preds, labels_list\n"
   ]
  },
  {
   "cell_type": "code",
   "execution_count": null,
   "metadata": {},
   "outputs": [],
   "source": [
    "predictions, labels = evaluate(val_loader, model, criterion)"
   ]
  },
  {
   "cell_type": "code",
   "execution_count": null,
   "metadata": {},
   "outputs": [],
   "source": [
    "from sklearn.metrics import classification_report\n",
    "\n",
    "print(classification_report(np.array(torch.cat(labels)), np.array(torch.cat(predictions))))"
   ]
  },
  {
   "cell_type": "code",
   "execution_count": 28,
   "metadata": {},
   "outputs": [
    {
     "data": {
      "text/plain": [
       "array([173,  96, 117, ..., 238, 160, 246])"
      ]
     },
     "execution_count": 28,
     "metadata": {},
     "output_type": "execute_result"
    }
   ],
   "source": [
    "np.array(torch.cat(labels)), np.array(torch.cat(predictions))"
   ]
  },
  {
   "cell_type": "code",
   "execution_count": 30,
   "metadata": {},
   "outputs": [
    {
     "name": "stdout",
     "output_type": "stream",
     "text": [
      "f1: 0.9561127095127094\n",
      "acc: 0.9568\n",
      "recall: 0.9568\n",
      "precision: 0.9647031746031746\n"
     ]
    }
   ],
   "source": [
    "f1_score = metrics.f1_score(np.array(torch.cat(labels)), np.array(torch.cat(predictions)), average='weighted')\n",
    "acc = metrics.accuracy_score(np.array(torch.cat(labels)), np.array(torch.cat(predictions)))\n",
    "recall = metrics.recall_score(np.array(torch.cat(labels)), np.array(torch.cat(predictions)), average='weighted')\n",
    "precision = metrics.precision_score(np.array(torch.cat(labels)), np.array(torch.cat(predictions)), average='weighted')\n",
    "\n",
    "print(f\"f1: {f1_score}\\nacc: {acc}\\nrecall: {recall}\\nprecision: {precision}\")"
   ]
  },
  {
   "cell_type": "code",
   "execution_count": 7,
   "metadata": {},
   "outputs": [],
   "source": [
    "model = torch.load('trained_model_resnet50.pt', map_location='cpu')"
   ]
  },
  {
   "cell_type": "code",
   "execution_count": 21,
   "metadata": {},
   "outputs": [],
   "source": [
    "def save_model(model, model_name):\n",
    "    torch.save(model, model_name)\n",
    "    \n",
    "def load_model(model_location):\n",
    "    return torch.load(model_location)\n",
    "\n",
    "save_model(model, 'trained_model_resnet50.pt')"
   ]
  },
  {
   "cell_type": "code",
   "execution_count": 24,
   "metadata": {},
   "outputs": [],
   "source": [
    "torch.save(model.state_dict(), 'state_dict.pt')"
   ]
  },
  {
   "cell_type": "code",
   "execution_count": 22,
   "metadata": {},
   "outputs": [],
   "source": [
    "# loded_model = load_model('trained_model_resnet50.pt')"
   ]
  },
  {
   "cell_type": "code",
   "execution_count": 35,
   "metadata": {
    "collapsed": true,
    "jupyter": {
     "outputs_hidden": true
    }
   },
   "outputs": [
    {
     "data": {
      "text/plain": [
       "['AFRICAN CROWNED CRANE',\n",
       " 'AFRICAN FIREFINCH',\n",
       " 'ALBATROSS',\n",
       " 'ALEXANDRINE PARAKEET',\n",
       " 'AMERICAN AVOCET',\n",
       " 'AMERICAN BITTERN',\n",
       " 'AMERICAN COOT',\n",
       " 'AMERICAN GOLDFINCH',\n",
       " 'AMERICAN KESTREL',\n",
       " 'AMERICAN PIPIT',\n",
       " 'AMERICAN REDSTART',\n",
       " 'ANHINGA',\n",
       " 'ANNAS HUMMINGBIRD',\n",
       " 'ANTBIRD',\n",
       " 'ARARIPE MANAKIN',\n",
       " 'ASIAN CRESTED IBIS',\n",
       " 'BALD EAGLE',\n",
       " 'BALI STARLING',\n",
       " 'BALTIMORE ORIOLE',\n",
       " 'BANANAQUIT',\n",
       " 'BANDED BROADBILL',\n",
       " 'BAR-TAILED GODWIT',\n",
       " 'BARN OWL',\n",
       " 'BARN SWALLOW',\n",
       " 'BARRED PUFFBIRD',\n",
       " 'BAY-BREASTED WARBLER',\n",
       " 'BEARDED BARBET',\n",
       " 'BELTED KINGFISHER',\n",
       " 'BIRD OF PARADISE',\n",
       " 'BLACK FRANCOLIN',\n",
       " 'BLACK SKIMMER',\n",
       " 'BLACK SWAN',\n",
       " 'BLACK THROATED WARBLER',\n",
       " 'BLACK VULTURE',\n",
       " 'BLACK-CAPPED CHICKADEE',\n",
       " 'BLACK-NECKED GREBE',\n",
       " 'BLACK-THROATED SPARROW',\n",
       " 'BLACKBURNIAM WARBLER',\n",
       " 'BLUE GROUSE',\n",
       " 'BLUE HERON',\n",
       " 'BOBOLINK',\n",
       " 'BROWN NOODY',\n",
       " 'BROWN THRASHER',\n",
       " 'CACTUS WREN',\n",
       " 'CALIFORNIA CONDOR',\n",
       " 'CALIFORNIA GULL',\n",
       " 'CALIFORNIA QUAIL',\n",
       " 'CANARY',\n",
       " 'CAPE MAY WARBLER',\n",
       " 'CAPUCHINBIRD',\n",
       " 'CARMINE BEE-EATER',\n",
       " 'CASPIAN TERN',\n",
       " 'CASSOWARY',\n",
       " 'CHARA DE COLLAR',\n",
       " 'CHIPPING SPARROW',\n",
       " 'CHUKAR PARTRIDGE',\n",
       " 'CINNAMON TEAL',\n",
       " 'COCK OF THE  ROCK',\n",
       " 'COCKATOO',\n",
       " 'COMMON FIRECREST',\n",
       " 'COMMON GRACKLE',\n",
       " 'COMMON HOUSE MARTIN',\n",
       " 'COMMON LOON',\n",
       " 'COMMON POORWILL',\n",
       " 'COMMON STARLING',\n",
       " 'COUCHS KINGBIRD',\n",
       " 'CRESTED AUKLET',\n",
       " 'CRESTED CARACARA',\n",
       " 'CRESTED NUTHATCH',\n",
       " 'CROW',\n",
       " 'CROWNED PIGEON',\n",
       " 'CUBAN TODY',\n",
       " 'CURL CRESTED ARACURI',\n",
       " 'D-ARNAUDS BARBET',\n",
       " 'DARK EYED JUNCO',\n",
       " 'DOWNY WOODPECKER',\n",
       " 'EASTERN BLUEBIRD',\n",
       " 'EASTERN MEADOWLARK',\n",
       " 'EASTERN ROSELLA',\n",
       " 'EASTERN TOWEE',\n",
       " 'ELEGANT TROGON',\n",
       " 'ELLIOTS  PHEASANT',\n",
       " 'EMPEROR PENGUIN',\n",
       " 'EMU',\n",
       " 'EURASIAN GOLDEN ORIOLE',\n",
       " 'EURASIAN MAGPIE',\n",
       " 'EVENING GROSBEAK',\n",
       " 'FIRE TAILLED MYZORNIS',\n",
       " 'FLAME TANAGER',\n",
       " 'FLAMINGO',\n",
       " 'FRIGATE',\n",
       " 'GAMBELS QUAIL',\n",
       " 'GILA WOODPECKER',\n",
       " 'GILDED FLICKER',\n",
       " 'GLOSSY IBIS',\n",
       " 'GO AWAY BIRD',\n",
       " 'GOLD WING WARBLER',\n",
       " 'GOLDEN CHEEKED WARBLER',\n",
       " 'GOLDEN CHLOROPHONIA',\n",
       " 'GOLDEN EAGLE',\n",
       " 'GOLDEN PHEASANT',\n",
       " 'GOLDEN PIPIT',\n",
       " 'GOULDIAN FINCH',\n",
       " 'GRAY CATBIRD',\n",
       " 'GRAY PARTRIDGE',\n",
       " 'GREAT POTOO',\n",
       " 'GREATOR SAGE GROUSE',\n",
       " 'GREEN JAY',\n",
       " 'GREY PLOVER',\n",
       " 'GUINEA TURACO',\n",
       " 'GUINEAFOWL',\n",
       " 'GYRFALCON',\n",
       " 'HARPY EAGLE',\n",
       " 'HAWAIIAN GOOSE',\n",
       " 'HELMET VANGA',\n",
       " 'HOATZIN',\n",
       " 'HOODED MERGANSER',\n",
       " 'HOOPOES',\n",
       " 'HORNBILL',\n",
       " 'HORNED GUAN',\n",
       " 'HORNED SUNGEM',\n",
       " 'HOUSE FINCH',\n",
       " 'HOUSE SPARROW',\n",
       " 'IMPERIAL SHAQ',\n",
       " 'INCA TERN',\n",
       " 'INDIAN BUSTARD',\n",
       " 'INDIAN PITTA',\n",
       " 'INDIGO BUNTING',\n",
       " 'JABIRU',\n",
       " 'JAVA SPARROW',\n",
       " 'JAVAN MAGPIE',\n",
       " 'KAKAPO',\n",
       " 'KILLDEAR',\n",
       " 'KING VULTURE',\n",
       " 'KIWI',\n",
       " 'KOOKABURRA',\n",
       " 'LARK BUNTING',\n",
       " 'LEARS MACAW',\n",
       " 'LILAC ROLLER',\n",
       " 'LONG-EARED OWL',\n",
       " 'MALABAR HORNBILL',\n",
       " 'MALACHITE KINGFISHER',\n",
       " 'MALEO',\n",
       " 'MALLARD DUCK',\n",
       " 'MANDRIN DUCK',\n",
       " 'MARABOU STORK',\n",
       " 'MASKED BOOBY',\n",
       " 'MASKED LAPWING',\n",
       " 'MIKADO  PHEASANT',\n",
       " 'MOURNING DOVE',\n",
       " 'MYNA',\n",
       " 'NICOBAR PIGEON',\n",
       " 'NORTHERN BALD IBIS',\n",
       " 'NORTHERN CARDINAL',\n",
       " 'NORTHERN FLICKER',\n",
       " 'NORTHERN GANNET',\n",
       " 'NORTHERN GOSHAWK',\n",
       " 'NORTHERN JACANA',\n",
       " 'NORTHERN MOCKINGBIRD',\n",
       " 'NORTHERN PARULA',\n",
       " 'NORTHERN RED BISHOP',\n",
       " 'OCELLATED TURKEY',\n",
       " 'OKINAWA RAIL',\n",
       " 'OSPREY',\n",
       " 'OSTRICH',\n",
       " 'OYSTER CATCHER',\n",
       " 'PAINTED BUNTIG',\n",
       " 'PALILA',\n",
       " 'PARADISE TANAGER',\n",
       " 'PARUS MAJOR',\n",
       " 'PEACOCK',\n",
       " 'PELICAN',\n",
       " 'PEREGRINE FALCON',\n",
       " 'PHILIPPINE EAGLE',\n",
       " 'PINK ROBIN',\n",
       " 'PUFFIN',\n",
       " 'PURPLE FINCH',\n",
       " 'PURPLE GALLINULE',\n",
       " 'PURPLE MARTIN',\n",
       " 'PURPLE SWAMPHEN',\n",
       " 'QUETZAL',\n",
       " 'RAINBOW LORIKEET',\n",
       " 'RAZORBILL',\n",
       " 'RED BEARDED BEE EATER',\n",
       " 'RED BELLIED PITTA',\n",
       " 'RED FACED CORMORANT',\n",
       " 'RED FACED WARBLER',\n",
       " 'RED HEADED DUCK',\n",
       " 'RED HEADED WOODPECKER',\n",
       " 'RED HONEY CREEPER',\n",
       " 'RED WINGED BLACKBIRD',\n",
       " 'RED WISKERED BULBUL',\n",
       " 'RING-NECKED PHEASANT',\n",
       " 'ROADRUNNER',\n",
       " 'ROBIN',\n",
       " 'ROCK DOVE',\n",
       " 'ROSY FACED LOVEBIRD',\n",
       " 'ROUGH LEG BUZZARD',\n",
       " 'RUBY THROATED HUMMINGBIRD',\n",
       " 'RUFOUS KINGFISHER',\n",
       " 'RUFUOS MOTMOT',\n",
       " 'SAMATRAN THRUSH',\n",
       " 'SAND MARTIN',\n",
       " 'SCARLET IBIS',\n",
       " 'SCARLET MACAW',\n",
       " 'SHOEBILL',\n",
       " 'SHORT BILLED DOWITCHER',\n",
       " 'SMITHS LONGSPUR',\n",
       " 'SNOWY EGRET',\n",
       " 'SNOWY OWL',\n",
       " 'SORA',\n",
       " 'SPANGLED COTINGA',\n",
       " 'SPLENDID WREN',\n",
       " 'SPOON BILED SANDPIPER',\n",
       " 'SPOONBILL',\n",
       " 'SRI LANKA BLUE MAGPIE',\n",
       " 'STEAMER DUCK',\n",
       " 'STORK BILLED KINGFISHER',\n",
       " 'STRAWBERRY FINCH',\n",
       " 'STRIPPED SWALLOW',\n",
       " 'SUPERB STARLING',\n",
       " 'SWINHOES PHEASANT',\n",
       " 'TAIWAN MAGPIE',\n",
       " 'TAKAHE',\n",
       " 'TASMANIAN HEN',\n",
       " 'TEAL DUCK',\n",
       " 'TIT MOUSE',\n",
       " 'TOUCHAN',\n",
       " 'TOWNSENDS WARBLER',\n",
       " 'TREE SWALLOW',\n",
       " 'TRUMPTER SWAN',\n",
       " 'TURKEY VULTURE',\n",
       " 'TURQUOISE MOTMOT',\n",
       " 'UMBRELLA BIRD',\n",
       " 'VARIED THRUSH',\n",
       " 'VENEZUELIAN TROUPIAL',\n",
       " 'VERMILION FLYCATHER',\n",
       " 'VIOLET GREEN SWALLOW',\n",
       " 'VULTURINE GUINEAFOWL',\n",
       " 'WATTLED CURASSOW',\n",
       " 'WHIMBREL',\n",
       " 'WHITE CHEEKED TURACO',\n",
       " 'WHITE NECKED RAVEN',\n",
       " 'WHITE TAILED TROPIC',\n",
       " 'WILD TURKEY',\n",
       " 'WILSONS BIRD OF PARADISE',\n",
       " 'WOOD DUCK',\n",
       " 'YELLOW BELLIED FLOWERPECKER',\n",
       " 'YELLOW CACIQUE',\n",
       " 'YELLOW HEADED BLACKBIRD']"
      ]
     },
     "execution_count": 35,
     "metadata": {},
     "output_type": "execute_result"
    }
   ],
   "source": [
    "l = os.listdir('consolidated/consolidated')\n",
    "l.sort()\n",
    "l"
   ]
  },
  {
   "cell_type": "code",
   "execution_count": 42,
   "metadata": {},
   "outputs": [
    {
     "name": "stdout",
     "output_type": "stream",
     "text": [
      "['African Crowned Crane', 'African Firefinch', 'Albatross', 'Alexandrine Parakeet', 'American Avocet', 'American Bittern', 'American Coot', 'American Goldfinch', 'American Kestrel', 'American Pipit', 'American Redstart', 'Anhinga', 'Annas Hummingbird', 'Antbird', 'Araripe Manakin', 'Asian Crested Ibis', 'Bald Eagle', 'Bali Starling', 'Baltimore Oriole', 'Bananaquit', 'Banded Broadbill', 'Bar-Tailed Godwit', 'Barn Owl', 'Barn Swallow', 'Barred Puffbird', 'Bay-Breasted Warbler', 'Bearded Barbet', 'Belted Kingfisher', 'Bird Of Paradise', 'Black Francolin', 'Black Skimmer', 'Black Swan', 'Black Throated Warbler', 'Black Vulture', 'Black-Capped Chickadee', 'Black-Necked Grebe', 'Black-Throated Sparrow', 'Blackburniam Warbler', 'Blue Grouse', 'Blue Heron', 'Bobolink', 'Brown Noody', 'Brown Thrasher', 'Cactus Wren', 'California Condor', 'California Gull', 'California Quail', 'Canary', 'Cape May Warbler', 'Capuchinbird', 'Carmine Bee-Eater', 'Caspian Tern', 'Cassowary', 'Chara De Collar', 'Chipping Sparrow', 'Chukar Partridge', 'Cinnamon Teal', 'Cock Of The  Rock', 'Cockatoo', 'Common Firecrest', 'Common Grackle', 'Common House Martin', 'Common Loon', 'Common Poorwill', 'Common Starling', 'Couchs Kingbird', 'Crested Auklet', 'Crested Caracara', 'Crested Nuthatch', 'Crow', 'Crowned Pigeon', 'Cuban Tody', 'Curl Crested Aracuri', 'D-Arnauds Barbet', 'Dark Eyed Junco', 'Downy Woodpecker', 'Eastern Bluebird', 'Eastern Meadowlark', 'Eastern Rosella', 'Eastern Towee', 'Elegant Trogon', 'Elliots  Pheasant', 'Emperor Penguin', 'Emu', 'Eurasian Golden Oriole', 'Eurasian Magpie', 'Evening Grosbeak', 'Fire Tailled Myzornis', 'Flame Tanager', 'Flamingo', 'Frigate', 'Gambels Quail', 'Gila Woodpecker', 'Gilded Flicker', 'Glossy Ibis', 'Go Away Bird', 'Gold Wing Warbler', 'Golden Cheeked Warbler', 'Golden Chlorophonia', 'Golden Eagle', 'Golden Pheasant', 'Golden Pipit', 'Gouldian Finch', 'Gray Catbird', 'Gray Partridge', 'Great Potoo', 'Greator Sage Grouse', 'Green Jay', 'Grey Plover', 'Guinea Turaco', 'Guineafowl', 'Gyrfalcon', 'Harpy Eagle', 'Hawaiian Goose', 'Helmet Vanga', 'Hoatzin', 'Hooded Merganser', 'Hoopoes', 'Hornbill', 'Horned Guan', 'Horned Sungem', 'House Finch', 'House Sparrow', 'Imperial Shaq', 'Inca Tern', 'Indian Bustard', 'Indian Pitta', 'Indigo Bunting', 'Jabiru', 'Java Sparrow', 'Javan Magpie', 'Kakapo', 'Killdear', 'King Vulture', 'Kiwi', 'Kookaburra', 'Lark Bunting', 'Lears Macaw', 'Lilac Roller', 'Long-Eared Owl', 'Malabar Hornbill', 'Malachite Kingfisher', 'Maleo', 'Mallard Duck', 'Mandrin Duck', 'Marabou Stork', 'Masked Booby', 'Masked Lapwing', 'Mikado  Pheasant', 'Mourning Dove', 'Myna', 'Nicobar Pigeon', 'Northern Bald Ibis', 'Northern Cardinal', 'Northern Flicker', 'Northern Gannet', 'Northern Goshawk', 'Northern Jacana', 'Northern Mockingbird', 'Northern Parula', 'Northern Red Bishop', 'Ocellated Turkey', 'Okinawa Rail', 'Osprey', 'Ostrich', 'Oyster Catcher', 'Painted Buntig', 'Palila', 'Paradise Tanager', 'Parus Major', 'Peacock', 'Pelican', 'Peregrine Falcon', 'Philippine Eagle', 'Pink Robin', 'Puffin', 'Purple Finch', 'Purple Gallinule', 'Purple Martin', 'Purple Swamphen', 'Quetzal', 'Rainbow Lorikeet', 'Razorbill', 'Red Bearded Bee Eater', 'Red Bellied Pitta', 'Red Faced Cormorant', 'Red Faced Warbler', 'Red Headed Duck', 'Red Headed Woodpecker', 'Red Honey Creeper', 'Red Winged Blackbird', 'Red Wiskered Bulbul', 'Ring-Necked Pheasant', 'Roadrunner', 'Robin', 'Rock Dove', 'Rosy Faced Lovebird', 'Rough Leg Buzzard', 'Ruby Throated Hummingbird', 'Rufous Kingfisher', 'Rufuos Motmot', 'Samatran Thrush', 'Sand Martin', 'Scarlet Ibis', 'Scarlet Macaw', 'Shoebill', 'Short Billed Dowitcher', 'Smiths Longspur', 'Snowy Egret', 'Snowy Owl', 'Sora', 'Spangled Cotinga', 'Splendid Wren', 'Spoon Biled Sandpiper', 'Spoonbill', 'Sri Lanka Blue Magpie', 'Steamer Duck', 'Stork Billed Kingfisher', 'Strawberry Finch', 'Stripped Swallow', 'Superb Starling', 'Swinhoes Pheasant', 'Taiwan Magpie', 'Takahe', 'Tasmanian Hen', 'Teal Duck', 'Tit Mouse', 'Touchan', 'Townsends Warbler', 'Tree Swallow', 'Trumpter Swan', 'Turkey Vulture', 'Turquoise Motmot', 'Umbrella Bird', 'Varied Thrush', 'Venezuelian Troupial', 'Vermilion Flycather', 'Violet Green Swallow', 'Vulturine Guineafowl', 'Wattled Curassow', 'Whimbrel', 'White Cheeked Turaco', 'White Necked Raven', 'White Tailed Tropic', 'Wild Turkey', 'Wilsons Bird Of Paradise', 'Wood Duck', 'Yellow Bellied Flowerpecker', 'Yellow Cacique', 'Yellow Headed Blackbird']\n"
     ]
    }
   ],
   "source": [
    "sorted_list_of_dirs = [i.title() for i in os.listdir('train')]\n",
    "sorted_list_of_dirs.sort()\n",
    "\n",
    "print(sorted_list_of_dirs)"
   ]
  },
  {
   "cell_type": "code",
   "execution_count": 136,
   "metadata": {},
   "outputs": [],
   "source": [
    "def predict(image_filepath, model, index_to_class_labels, show=True):\n",
    "    img = Image.open(image_filepath)\n",
    "    if show:\n",
    "        display(img)\n",
    "    img_t = transforms.Compose([\n",
    "        transforms.Resize((224,224)),\n",
    "        transforms.ToTensor(),\n",
    "        transforms.Normalize(\n",
    "                mean=[0.485, 0.456, 0.406],\n",
    "                std=[0.229, 0.224, 0.225]\n",
    "            )\n",
    "    ])\n",
    "    img = img_t(img)\n",
    "    img = img.unsqueeze(0)\n",
    "    img = img.to(device)\n",
    "    model.eval()\n",
    "    output_tensor = model(img)\n",
    "#     _, pred = torch.max(outputs, dim=1)\n",
    "    prob_tensor = torch.nn.Softmax(dim=1)(output_tensor)\n",
    "    top_5 = torch.topk(prob_tensor, 3, dim=1)\n",
    "    out = []\n",
    "    for pred_prob, pred_idx in zip(top_5.values.detach().numpy().flatten(), top_5.indices.detach().numpy().flatten()):\n",
    "        predicted_label = sorted_list_of_dirs[pred_idx]\n",
    "        predicted_prob = pred_prob*100\n",
    "        out.append((predicted_label, str(round(predicted_prob, 3))+'%'))\n",
    "    return out\n"
   ]
  },
  {
   "cell_type": "code",
   "execution_count": 137,
   "metadata": {},
   "outputs": [
    {
     "data": {
      "image/png": "[encoded data removed]",
      "text/plain": [
       "<PIL.JpegImagePlugin.JpegImageFile image mode=RGB size=224x224 at 0x7FB2612C1BA8>"
      ]
     },
     "metadata": {},
     "output_type": "display_data"
    },
    {
     "data": {
      "text/plain": [
       "[('Belted Kingfisher', '99.993%'),\n",
       " ('Crested Nuthatch', '0.003%'),\n",
       " ('Downy Woodpecker', '0.003%')]"
      ]
     },
     "execution_count": 137,
     "metadata": {},
     "output_type": "execute_result"
    }
   ],
   "source": [
    "predict('test/BELTED KINGFISHER/1.jpg', model, sorted_list_of_dirs)"
   ]
  },
  {
   "cell_type": "code",
   "execution_count": 131,
   "metadata": {},
   "outputs": [
    {
     "name": "stdout",
     "output_type": "stream",
     "text": [
      "Predicted label: Belted Kingfisher; Probability: 99.992526%\n",
      "Predicted label: Crested Nuthatch; Probability: 0.003100%\n",
      "Predicted label: Downy Woodpecker; Probability: 0.002712%\n",
      "Predicted label: Black Throated Warbler; Probability: 0.000509%\n",
      "Predicted label: Kookaburra; Probability: 0.000506%\n"
     ]
    }
   ],
   "source": [
    "for pred_prob, pred_idx in zip(t.values.detach().numpy().flatten(), t.indices.detach().numpy().flatten()):\n",
    "    predicted_label = sorted_list_of_dirs[pred_idx]\n",
    "    predicted_prob = pred_prob*100\n",
    "    print(f\"Predicted label: {predicted_label}; Probability: {predicted_prob:4f}%\")"
   ]
  },
  {
   "cell_type": "code",
   "execution_count": 129,
   "metadata": {},
   "outputs": [
    {
     "data": {
      "text/plain": [
       "torch.return_types.topk(\n",
       "values=tensor([[9.9993e-01, 3.0996e-05, 2.7118e-05, 5.0902e-06, 5.0649e-06]],\n",
       "       grad_fn=<TopkBackward>),\n",
       "indices=tensor([[ 27,  68,  75,  32, 135]]))"
      ]
     },
     "execution_count": 129,
     "metadata": {},
     "output_type": "execute_result"
    }
   ],
   "source": [
    "t"
   ]
  },
  {
   "cell_type": "code",
   "execution_count": 38,
   "metadata": {},
   "outputs": [],
   "source": [
    "#upload model file to s3:\n",
    "s3 = boto3.client('s3')\n",
    "s3.upload_file('trained_model_resnet50.pt', 'bird-classification-bucket', 'models/trained_model_resnet50.pt')"
   ]
  },
  {
   "cell_type": "code",
   "execution_count": 47,
   "metadata": {},
   "outputs": [
    {
     "name": "stdout",
     "output_type": "stream",
     "text": [
      "cpu\n"
     ]
    }
   ],
   "source": [
    "print(device)"
   ]
  },
  {
   "cell_type": "code",
   "execution_count": 140,
   "metadata": {},
   "outputs": [
    {
     "data": {
      "text/plain": [
       "Dataset ImageFolder\n",
       "    Number of datapoints: 35215\n",
       "    Root location: train"
      ]
     },
     "execution_count": 140,
     "metadata": {},
     "output_type": "execute_result"
    }
   ],
   "source": [
    "train_loader.dataset"
   ]
  },
  {
   "cell_type": "code",
   "execution_count": null,
   "metadata": {},
   "outputs": [],
   "source": []
  }
 ],
 "metadata": {
  "kernelspec": {
   "display_name": "Python 3 (PyTorch 1.6 Python 3.6 GPU Optimized)",
   "language": "python",
   "name": "python3__SAGEMAKER_INTERNAL__arn:aws:sagemaker:us-west-2:236514542706:image/pytorch-1.6-gpu-py36-cu110-ubuntu18.04-v3"
  },
  "language_info": {
   "codemirror_mode": {
    "name": "ipython",
    "version": 3
   },
   "file_extension": ".py",
   "mimetype": "text/x-python",
   "name": "python",
   "nbconvert_exporter": "python",
   "pygments_lexer": "ipython3",
   "version": "3.6.13"
  }
 },
 "nbformat": 4,
 "nbformat_minor": 4
}
